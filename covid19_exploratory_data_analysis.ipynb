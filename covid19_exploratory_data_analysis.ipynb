{
  "nbformat": 4,
  "nbformat_minor": 0,
  "metadata": {
    "colab": {
      "name": "covid19_exploratory_data_analysis.ipynb",
      "provenance": [],
      "collapsed_sections": [],
      "mount_file_id": "1IV-poqxClU6z7TGMCB86ILBbIYaLO-uk",
      "authorship_tag": "ABX9TyPmkwES5TDbhEt8kA4UKZGa",
      "include_colab_link": true
    },
    "kernelspec": {
      "name": "python3",
      "display_name": "Python 3"
    }
  },
  "cells": [
    {
      "cell_type": "markdown",
      "metadata": {
        "id": "view-in-github",
        "colab_type": "text"
      },
      "source": [
        "<a href=\"https://colab.research.google.com/github/ortegatiago/covid19_analysis/blob/master/covid19_exploratory_data_analysis.ipynb\" target=\"_parent\"><img src=\"https://colab.research.google.com/assets/colab-badge.svg\" alt=\"Open In Colab\"/></a>"
      ]
    },
    {
      "cell_type": "markdown",
      "metadata": {
        "id": "uyhxqSFhod06",
        "colab_type": "text"
      },
      "source": [
        "**EDA COVID19 - Exploratory Data Analysis using python**\n",
        "\n",
        "Author: Ortega, Tiago\n",
        "\n",
        "email: ortega.tiago@gmail.com\n",
        "\n",
        "github: https://github.com/ortegatiago\n",
        "\n",
        "linkedin: https://www.linkedin.com/in/ortegatiago/"
      ]
    },
    {
      "cell_type": "code",
      "metadata": {
        "id": "vOfiF-GtR2Ij",
        "colab_type": "code",
        "colab": {}
      },
      "source": [
        "import pandas as pd\n",
        "import numpy as np\n",
        "import matplotlib.pyplot as plt\n",
        "%matplotlib inline"
      ],
      "execution_count": 2,
      "outputs": []
    },
    {
      "cell_type": "code",
      "metadata": {
        "id": "QTYpjRo_SWII",
        "colab_type": "code",
        "colab": {}
      },
      "source": [
        "df = pd.read_csv('/content/drive/My Drive/Colab Notebooks/consolidated_covid_19_data.csv', sep=',', encoding='utf-8')"
      ],
      "execution_count": 3,
      "outputs": []
    },
    {
      "cell_type": "code",
      "metadata": {
        "id": "7tl5K5IpUs_j",
        "colab_type": "code",
        "colab": {
          "base_uri": "https://localhost:8080/",
          "height": 306
        },
        "outputId": "d7516a40-d870-451f-9d20-6f94210cba2d"
      },
      "source": [
        "df.info()"
      ],
      "execution_count": 14,
      "outputs": [
        {
          "output_type": "stream",
          "text": [
            "<class 'pandas.core.frame.DataFrame'>\n",
            "RangeIndex: 425513 entries, 0 to 425512\n",
            "Data columns (total 10 columns):\n",
            " #   Column          Non-Null Count   Dtype  \n",
            "---  ------          --------------   -----  \n",
            " 0   Unnamed: 0      425513 non-null  int64  \n",
            " 1   Province_State  403835 non-null  object \n",
            " 2   Country_Region  425513 non-null  object \n",
            " 3   Last_Update     425513 non-null  object \n",
            " 4   Confirmed       425513 non-null  int64  \n",
            " 5   Deaths          425513 non-null  int64  \n",
            " 6   Recovered       425513 non-null  int64  \n",
            " 7   Lat             417739 non-null  float64\n",
            " 8   Long            417739 non-null  float64\n",
            " 9   file            425513 non-null  object \n",
            "dtypes: float64(2), int64(4), object(4)\n",
            "memory usage: 32.5+ MB\n"
          ],
          "name": "stdout"
        }
      ]
    },
    {
      "cell_type": "code",
      "metadata": {
        "id": "yYssLutP1BLi",
        "colab_type": "code",
        "colab": {
          "base_uri": "https://localhost:8080/",
          "height": 204
        },
        "outputId": "2643171f-aa4b-414f-e289-41cbdd1c1a29"
      },
      "source": [
        "df.tail()"
      ],
      "execution_count": 5,
      "outputs": [
        {
          "output_type": "execute_result",
          "data": {
            "text/html": [
              "<div>\n",
              "<style scoped>\n",
              "    .dataframe tbody tr th:only-of-type {\n",
              "        vertical-align: middle;\n",
              "    }\n",
              "\n",
              "    .dataframe tbody tr th {\n",
              "        vertical-align: top;\n",
              "    }\n",
              "\n",
              "    .dataframe thead th {\n",
              "        text-align: right;\n",
              "    }\n",
              "</style>\n",
              "<table border=\"1\" class=\"dataframe\">\n",
              "  <thead>\n",
              "    <tr style=\"text-align: right;\">\n",
              "      <th></th>\n",
              "      <th>Unnamed: 0</th>\n",
              "      <th>Province_State</th>\n",
              "      <th>Country_Region</th>\n",
              "      <th>Last_Update</th>\n",
              "      <th>Confirmed</th>\n",
              "      <th>Deaths</th>\n",
              "      <th>Recovered</th>\n",
              "      <th>Lat</th>\n",
              "      <th>Long</th>\n",
              "      <th>file</th>\n",
              "    </tr>\n",
              "  </thead>\n",
              "  <tbody>\n",
              "    <tr>\n",
              "      <th>425508</th>\n",
              "      <td>3158</td>\n",
              "      <td>NaN</td>\n",
              "      <td>West Bank and Gaza</td>\n",
              "      <td>2020-04-29 02:32:29</td>\n",
              "      <td>343</td>\n",
              "      <td>2</td>\n",
              "      <td>71</td>\n",
              "      <td>31.952200</td>\n",
              "      <td>35.233200</td>\n",
              "      <td>04-28-2020.csv</td>\n",
              "    </tr>\n",
              "    <tr>\n",
              "      <th>425509</th>\n",
              "      <td>3159</td>\n",
              "      <td>NaN</td>\n",
              "      <td>Western Sahara</td>\n",
              "      <td>2020-04-29 02:32:29</td>\n",
              "      <td>6</td>\n",
              "      <td>0</td>\n",
              "      <td>5</td>\n",
              "      <td>24.215500</td>\n",
              "      <td>-12.885800</td>\n",
              "      <td>04-28-2020.csv</td>\n",
              "    </tr>\n",
              "    <tr>\n",
              "      <th>425510</th>\n",
              "      <td>3160</td>\n",
              "      <td>NaN</td>\n",
              "      <td>Yemen</td>\n",
              "      <td>2020-04-29 02:32:29</td>\n",
              "      <td>1</td>\n",
              "      <td>0</td>\n",
              "      <td>1</td>\n",
              "      <td>15.552727</td>\n",
              "      <td>48.516388</td>\n",
              "      <td>04-28-2020.csv</td>\n",
              "    </tr>\n",
              "    <tr>\n",
              "      <th>425511</th>\n",
              "      <td>3161</td>\n",
              "      <td>NaN</td>\n",
              "      <td>Zambia</td>\n",
              "      <td>2020-04-29 02:32:29</td>\n",
              "      <td>95</td>\n",
              "      <td>3</td>\n",
              "      <td>42</td>\n",
              "      <td>-13.133897</td>\n",
              "      <td>27.849332</td>\n",
              "      <td>04-28-2020.csv</td>\n",
              "    </tr>\n",
              "    <tr>\n",
              "      <th>425512</th>\n",
              "      <td>3162</td>\n",
              "      <td>NaN</td>\n",
              "      <td>Zimbabwe</td>\n",
              "      <td>2020-04-29 02:32:29</td>\n",
              "      <td>32</td>\n",
              "      <td>4</td>\n",
              "      <td>5</td>\n",
              "      <td>-19.015438</td>\n",
              "      <td>29.154857</td>\n",
              "      <td>04-28-2020.csv</td>\n",
              "    </tr>\n",
              "  </tbody>\n",
              "</table>\n",
              "</div>"
            ],
            "text/plain": [
              "        Unnamed: 0 Province_State  ...       Long            file\n",
              "425508        3158            NaN  ...  35.233200  04-28-2020.csv\n",
              "425509        3159            NaN  ... -12.885800  04-28-2020.csv\n",
              "425510        3160            NaN  ...  48.516388  04-28-2020.csv\n",
              "425511        3161            NaN  ...  27.849332  04-28-2020.csv\n",
              "425512        3162            NaN  ...  29.154857  04-28-2020.csv\n",
              "\n",
              "[5 rows x 10 columns]"
            ]
          },
          "metadata": {
            "tags": []
          },
          "execution_count": 5
        }
      ]
    },
    {
      "cell_type": "code",
      "metadata": {
        "id": "QQmEuPb21LSu",
        "colab_type": "code",
        "colab": {}
      },
      "source": [
        "df['Last_Update'] = pd.to_datetime(df['Last_Update'])\n",
        "df['Last_Update'] = df['Last_Update'].dt.date\n",
        "df['Last_Update'] = pd.to_datetime(df['Last_Update'])\n",
        "\n",
        "df = df[['Country_Region','Last_Update', 'Confirmed', 'Deaths', 'Recovered']]\n",
        "\n",
        "df['Days'] = df['Last_Update'] - df['Last_Update'].min()\n",
        "df['Days'] = df['Days'].dt.days"
      ],
      "execution_count": 8,
      "outputs": []
    },
    {
      "cell_type": "code",
      "metadata": {
        "id": "KiIaNCTX12lW",
        "colab_type": "code",
        "colab": {
          "base_uri": "https://localhost:8080/",
          "height": 238
        },
        "outputId": "28e3764d-d27d-4faf-d91a-43fe38072371"
      },
      "source": [
        "df.info()"
      ],
      "execution_count": 9,
      "outputs": [
        {
          "output_type": "stream",
          "text": [
            "<class 'pandas.core.frame.DataFrame'>\n",
            "RangeIndex: 425513 entries, 0 to 425512\n",
            "Data columns (total 6 columns):\n",
            " #   Column          Non-Null Count   Dtype         \n",
            "---  ------          --------------   -----         \n",
            " 0   Country_Region  425513 non-null  object        \n",
            " 1   Last_Update     425513 non-null  datetime64[ns]\n",
            " 2   Confirmed       425513 non-null  int64         \n",
            " 3   Deaths          425513 non-null  int64         \n",
            " 4   Recovered       425513 non-null  int64         \n",
            " 5   Days            425513 non-null  int64         \n",
            "dtypes: datetime64[ns](1), int64(4), object(1)\n",
            "memory usage: 19.5+ MB\n"
          ],
          "name": "stdout"
        }
      ]
    },
    {
      "cell_type": "code",
      "metadata": {
        "id": "slWry8x417Zf",
        "colab_type": "code",
        "colab": {
          "base_uri": "https://localhost:8080/",
          "height": 297
        },
        "outputId": "8cec0253-ae80-4ae9-ebac-2b7cc44d8f59"
      },
      "source": [
        "df.describe()"
      ],
      "execution_count": 10,
      "outputs": [
        {
          "output_type": "execute_result",
          "data": {
            "text/html": [
              "<div>\n",
              "<style scoped>\n",
              "    .dataframe tbody tr th:only-of-type {\n",
              "        vertical-align: middle;\n",
              "    }\n",
              "\n",
              "    .dataframe tbody tr th {\n",
              "        vertical-align: top;\n",
              "    }\n",
              "\n",
              "    .dataframe thead th {\n",
              "        text-align: right;\n",
              "    }\n",
              "</style>\n",
              "<table border=\"1\" class=\"dataframe\">\n",
              "  <thead>\n",
              "    <tr style=\"text-align: right;\">\n",
              "      <th></th>\n",
              "      <th>Confirmed</th>\n",
              "      <th>Deaths</th>\n",
              "      <th>Recovered</th>\n",
              "      <th>Days</th>\n",
              "    </tr>\n",
              "  </thead>\n",
              "  <tbody>\n",
              "    <tr>\n",
              "      <th>count</th>\n",
              "      <td>425513.000000</td>\n",
              "      <td>425513.000000</td>\n",
              "      <td>4.255130e+05</td>\n",
              "      <td>425513.000000</td>\n",
              "    </tr>\n",
              "    <tr>\n",
              "      <th>mean</th>\n",
              "      <td>1783.195639</td>\n",
              "      <td>94.988071</td>\n",
              "      <td>8.350652e+02</td>\n",
              "      <td>93.456440</td>\n",
              "    </tr>\n",
              "    <tr>\n",
              "      <th>std</th>\n",
              "      <td>11900.776847</td>\n",
              "      <td>972.923436</td>\n",
              "      <td>1.170220e+04</td>\n",
              "      <td>36.144079</td>\n",
              "    </tr>\n",
              "    <tr>\n",
              "      <th>min</th>\n",
              "      <td>0.000000</td>\n",
              "      <td>0.000000</td>\n",
              "      <td>0.000000e+00</td>\n",
              "      <td>0.000000</td>\n",
              "    </tr>\n",
              "    <tr>\n",
              "      <th>25%</th>\n",
              "      <td>8.000000</td>\n",
              "      <td>0.000000</td>\n",
              "      <td>0.000000e+00</td>\n",
              "      <td>63.000000</td>\n",
              "    </tr>\n",
              "    <tr>\n",
              "      <th>50%</th>\n",
              "      <td>46.000000</td>\n",
              "      <td>1.000000</td>\n",
              "      <td>0.000000e+00</td>\n",
              "      <td>96.000000</td>\n",
              "    </tr>\n",
              "    <tr>\n",
              "      <th>75%</th>\n",
              "      <td>290.000000</td>\n",
              "      <td>8.000000</td>\n",
              "      <td>0.000000e+00</td>\n",
              "      <td>125.000000</td>\n",
              "    </tr>\n",
              "    <tr>\n",
              "      <th>max</th>\n",
              "      <td>452007.000000</td>\n",
              "      <td>41128.000000</td>\n",
              "      <td>1.233269e+06</td>\n",
              "      <td>152.000000</td>\n",
              "    </tr>\n",
              "  </tbody>\n",
              "</table>\n",
              "</div>"
            ],
            "text/plain": [
              "           Confirmed         Deaths     Recovered           Days\n",
              "count  425513.000000  425513.000000  4.255130e+05  425513.000000\n",
              "mean     1783.195639      94.988071  8.350652e+02      93.456440\n",
              "std     11900.776847     972.923436  1.170220e+04      36.144079\n",
              "min         0.000000       0.000000  0.000000e+00       0.000000\n",
              "25%         8.000000       0.000000  0.000000e+00      63.000000\n",
              "50%        46.000000       1.000000  0.000000e+00      96.000000\n",
              "75%       290.000000       8.000000  0.000000e+00     125.000000\n",
              "max    452007.000000   41128.000000  1.233269e+06     152.000000"
            ]
          },
          "metadata": {
            "tags": []
          },
          "execution_count": 10
        }
      ]
    },
    {
      "cell_type": "code",
      "metadata": {
        "id": "BN9w3SdFGvG3",
        "colab_type": "code",
        "colab": {
          "base_uri": "https://localhost:8080/",
          "height": 680
        },
        "outputId": "dd9bd74f-4663-4e8e-e104-179e0cef328f"
      },
      "source": [
        "df['Country_Region'].unique()"
      ],
      "execution_count": 45,
      "outputs": [
        {
          "output_type": "execute_result",
          "data": {
            "text/plain": [
              "array(['US', 'Italy', 'Brazil', 'Russia', 'Mexico', 'Japan', 'Canada',\n",
              "       'Colombia', 'Peru', 'Spain', 'India', 'United Kingdom', 'China',\n",
              "       'Chile', 'Netherlands', 'Australia', 'Pakistan', 'Germany',\n",
              "       'Sweden', 'Ukraine', 'Denmark', 'France', 'Afghanistan', 'Albania',\n",
              "       'Algeria', 'Andorra', 'Angola', 'Antigua and Barbuda', 'Argentina',\n",
              "       'Armenia', 'Austria', 'Azerbaijan', 'Bahamas', 'Bahrain',\n",
              "       'Bangladesh', 'Barbados', 'Belarus', 'Belgium', 'Belize', 'Benin',\n",
              "       'Bhutan', 'Bolivia', 'Bosnia and Herzegovina', 'Botswana',\n",
              "       'Brunei', 'Bulgaria', 'Burkina Faso', 'Burma', 'Burundi',\n",
              "       'Cabo Verde', 'Cambodia', 'Cameroon', 'Central African Republic',\n",
              "       'Chad', 'Comoros', 'Congo (Brazzaville)', 'Congo (Kinshasa)',\n",
              "       'Costa Rica', \"Cote d'Ivoire\", 'Croatia', 'Cuba', 'Cyprus',\n",
              "       'Czechia', 'Diamond Princess', 'Djibouti', 'Dominica',\n",
              "       'Dominican Republic', 'Ecuador', 'Egypt', 'El Salvador',\n",
              "       'Equatorial Guinea', 'Eritrea', 'Estonia', 'Eswatini', 'Ethiopia',\n",
              "       'Fiji', 'Finland', 'Gabon', 'Gambia', 'Georgia', 'Ghana', 'Greece',\n",
              "       'Grenada', 'Guatemala', 'Guinea', 'Guinea-Bissau', 'Guyana',\n",
              "       'Haiti', 'Holy See', 'Honduras', 'Hungary', 'Iceland', 'Indonesia',\n",
              "       'Iran', 'Iraq', 'Ireland', 'Israel', 'Jamaica', 'Jordan',\n",
              "       'Kazakhstan', 'Kenya', 'Korea, South', 'Kosovo', 'Kuwait',\n",
              "       'Kyrgyzstan', 'Laos', 'Latvia', 'Lebanon', 'Lesotho', 'Liberia',\n",
              "       'Libya', 'Liechtenstein', 'Lithuania', 'Luxembourg', 'MS Zaandam',\n",
              "       'Madagascar', 'Malawi', 'Malaysia', 'Maldives', 'Mali', 'Malta',\n",
              "       'Mauritania', 'Mauritius', 'Moldova', 'Monaco', 'Mongolia',\n",
              "       'Montenegro', 'Morocco', 'Mozambique', 'Namibia', 'Nepal',\n",
              "       'New Zealand', 'Nicaragua', 'Niger', 'Nigeria', 'North Macedonia',\n",
              "       'Norway', 'Oman', 'Panama', 'Papua New Guinea', 'Paraguay',\n",
              "       'Philippines', 'Poland', 'Portugal', 'Qatar', 'Romania', 'Rwanda',\n",
              "       'Saint Kitts and Nevis', 'Saint Lucia',\n",
              "       'Saint Vincent and the Grenadines', 'San Marino',\n",
              "       'Sao Tome and Principe', 'Saudi Arabia', 'Senegal', 'Serbia',\n",
              "       'Seychelles', 'Sierra Leone', 'Singapore', 'Slovakia', 'Slovenia',\n",
              "       'Somalia', 'South Africa', 'South Sudan', 'Sri Lanka', 'Sudan',\n",
              "       'Suriname', 'Switzerland', 'Syria', 'Taiwan*', 'Tajikistan',\n",
              "       'Tanzania', 'Thailand', 'Timor-Leste', 'Togo',\n",
              "       'Trinidad and Tobago', 'Tunisia', 'Turkey', 'Uganda',\n",
              "       'United Arab Emirates', 'Uruguay', 'Uzbekistan', 'Venezuela',\n",
              "       'Vietnam', 'West Bank and Gaza', 'Western Sahara', 'Yemen',\n",
              "       'Zambia', 'Zimbabwe', 'Cruise Ship'], dtype=object)"
            ]
          },
          "metadata": {
            "tags": []
          },
          "execution_count": 45
        }
      ]
    },
    {
      "cell_type": "code",
      "metadata": {
        "id": "nUVfBAW72Kii",
        "colab_type": "code",
        "colab": {}
      },
      "source": [
        "def plot_covid19_data(country, by='Days', cases=['Confirmed', 'Deaths', 'Recovered'], log=False):\n",
        "  df_c = pd.DataFrame()\n",
        "  df_c = df[df['Country_Region'].str.contains(country)].copy()\n",
        "\n",
        "  tmp_columns = cases.copy()\n",
        "  tmp_columns.append(by)\n",
        "  df_c = df_c[tmp_columns]\n",
        "\n",
        "  d = df_c.groupby(by).sum()\n",
        "\n",
        "  if log:\n",
        "    for case in cases:\n",
        "      d[case] = np.log(d[case])\n",
        "\n",
        "    #d.index = np.log(d.index)\n",
        "\n",
        "  plt.figure(figsize=(8,5))\n",
        "\n",
        "  plt.plot(d)\n",
        "  plt.legend(list(d.columns))\n",
        "  plt.xlabel(by)\n",
        "  plt.ylabel(\"Cases\")\n",
        "  plt.xticks(rotation = 90)\n",
        "  plt.title(\"COVID 19 - \"+country)"
      ],
      "execution_count": 79,
      "outputs": []
    },
    {
      "cell_type": "code",
      "metadata": {
        "id": "pQ08AJ_WsTLl",
        "colab_type": "code",
        "colab": {
          "base_uri": "https://localhost:8080/",
          "height": 579
        },
        "outputId": "01751b19-c110-4b87-80b2-9ef9dbe51518"
      },
      "source": [
        "country = 'Brazil'\n",
        "by = 'Last_Update'\n",
        "cases = ['Confirmed', 'Deaths', 'Recovered']\n",
        "log = True\n",
        "\n",
        "df_c = pd.DataFrame()\n",
        "df_c = df[df['Country_Region'].str.contains(country)].copy()\n",
        "\n",
        "tmp_columns = cases.copy()\n",
        "tmp_columns.append(by)\n",
        "df_c = df_c[tmp_columns]\n",
        "\n",
        "d = df_c.groupby(by).sum()\n",
        "\n",
        "if log:\n",
        "  for case in cases:\n",
        "    d[case] = np.log(d[case])\n",
        "\n",
        "  #d.index = np.log(d.index)\n",
        "\n",
        "plt.figure(figsize=(20,8))\n",
        "\n",
        "plt.subplot(1, 2, 1)\n",
        "plt.plot(d)\n",
        "plt.legend(list(d.columns))\n",
        "plt.xlabel(by)\n",
        "plt.ylabel(\"Cases\")\n",
        "plt.xticks(rotation = 90)\n",
        "plt.title(\"COVID 19 - \"+country)\n",
        "\n",
        "plt.subplot(1, 2, 2)\n",
        "plt.plot(d)\n",
        "plt.legend(list(d.columns))\n",
        "plt.xlabel(by)\n",
        "plt.ylabel(\"Cases\")\n",
        "plt.xticks(rotation = 90)\n",
        "plt.title(\"COVID 19 - \"+country)\n"
      ],
      "execution_count": 106,
      "outputs": [
        {
          "output_type": "execute_result",
          "data": {
            "text/plain": [
              "Text(0.5, 1.0, 'COVID 19 - Brazil')"
            ]
          },
          "metadata": {
            "tags": []
          },
          "execution_count": 106
        },
        {
          "output_type": "display_data",
          "data": {
            "image/png": "[encoded data removed]",
            "text/plain": [
              "<Figure size 1440x576 with 2 Axes>"
            ]
          },
          "metadata": {
            "tags": [],
            "needs_background": "light"
          }
        }
      ]
    },
    {
      "cell_type": "code",
      "metadata": {
        "id": "UkkJpb0FcuzB",
        "colab_type": "code",
        "colab": {
          "base_uri": "https://localhost:8080/",
          "height": 398
        },
        "outputId": "8c6ef0c8-9a5d-4e9b-a430-d48c2b7bf5aa"
      },
      "source": [
        "plot_covid19_data(country='Italy', by='Last_Update', log=False, cases=['Confirmed', 'Deaths', 'Recovered'])"
      ],
      "execution_count": 90,
      "outputs": [
        {
          "output_type": "display_data",
          "data": {
            "image/png": "[encoded data removed]",
            "text/plain": [
              "<Figure size 576x360 with 1 Axes>"
            ]
          },
          "metadata": {
            "tags": [],
            "needs_background": "light"
          }
        }
      ]
    },
    {
      "cell_type": "markdown",
      "metadata": {
        "id": "cO0gIQfsocuo",
        "colab_type": "text"
      },
      "source": [
        ""
      ]
    }
  ]
}