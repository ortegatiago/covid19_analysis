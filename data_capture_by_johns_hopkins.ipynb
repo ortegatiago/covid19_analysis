{
  "nbformat": 4,
  "nbformat_minor": 0,
  "metadata": {
    "colab": {
      "name": "data_capture_by_johns_hopkins.ipynb",
      "provenance": [],
      "mount_file_id": "1qBE6AtQhFWqYxAbxZU5a6Z68EGeJ_q3o",
      "authorship_tag": "ABX9TyMdFVTBgfNbfKLVW1BvdisR",
      "include_colab_link": true
    },
    "kernelspec": {
      "name": "python3",
      "display_name": "Python 3"
    }
  },
  "cells": [
    {
      "cell_type": "markdown",
      "metadata": {
        "id": "view-in-github",
        "colab_type": "text"
      },
      "source": [
        "<a href=\"https://colab.research.google.com/github/ortegatiago/covid19_analysis/blob/master/data_capture_by_johns_hopkins.ipynb\" target=\"_parent\"><img src=\"https://colab.research.google.com/assets/colab-badge.svg\" alt=\"Open In Colab\"/></a>"
      ]
    },
    {
      "cell_type": "code",
      "metadata": {
        "id": "9cZ8kFLloeWK",
        "colab_type": "code",
        "colab": {}
      },
      "source": [
        "import pandas as pd\n",
        "import requests\n",
        "\n",
        "jonhs_hopkins_github_url = 'https://api.github.com/repos/CSSEGISandData/COVID-19/contents/csse_covid_19_data/csse_covid_19_daily_reports'"
      ],
      "execution_count": 8,
      "outputs": []
    },
    {
      "cell_type": "code",
      "metadata": {
        "id": "y_m5pBQGuSFp",
        "colab_type": "code",
        "colab": {}
      },
      "source": [
        "response = requests.get(jonhs_hopkins_github_url)\n",
        "\n",
        "if response:\n",
        "    github_content_files = response.json()"
      ],
      "execution_count": 9,
      "outputs": []
    },
    {
      "cell_type": "code",
      "metadata": {
        "id": "YmU24IL-u_K7",
        "colab_type": "code",
        "colab": {}
      },
      "source": [
        "for file in github_content_files:\n",
        "    if '.csv' in file['download_url']:\n",
        "        r = requests.get(file['download_url'], allow_redirects=True)\n",
        "        open(file['name'], 'wb').write(r.content)"
      ],
      "execution_count": 19,
      "outputs": []
    }
  ]
}