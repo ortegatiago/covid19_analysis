{
  "nbformat": 4,
  "nbformat_minor": 0,
  "metadata": {
    "colab": {
      "name": "data_capture_by_johns_hopkins.ipynb",
      "provenance": [],
      "collapsed_sections": [],
      "mount_file_id": "1qBE6AtQhFWqYxAbxZU5a6Z68EGeJ_q3o",
      "authorship_tag": "ABX9TyP6oLpKDMj8VJnK26mQK2E1"
    },
    "kernelspec": {
      "name": "python3",
      "display_name": "Python 3"
    }
  },
  "cells": [
    {
      "cell_type": "code",
      "metadata": {
        "id": "9cZ8kFLloeWK",
        "colab_type": "code",
        "colab": {}
      },
      "source": [
        "import pandas as pd\n",
        "import requests\n",
        "from os import listdir\n",
        "from os.path import isfile\n",
        "\n",
        "jonhs_hopkins_github_url = 'https://api.github.com/repos/CSSEGISandData/COVID-19/contents/csse_covid_19_data/csse_covid_19_daily_reports'"
      ],
      "execution_count": 1,
      "outputs": []
    },
    {
      "cell_type": "code",
      "metadata": {
        "id": "y_m5pBQGuSFp",
        "colab_type": "code",
        "colab": {}
      },
      "source": [
        "response = requests.get(jonhs_hopkins_github_url)\n",
        "\n",
        "if response:\n",
        "    github_content_files = response.json()"
      ],
      "execution_count": 2,
      "outputs": []
    },
    {
      "cell_type": "code",
      "metadata": {
        "id": "YmU24IL-u_K7",
        "colab_type": "code",
        "colab": {}
      },
      "source": [
        "def standardization(file):\n",
        "  df_standard = pd.DataFrame()\n",
        "  df = pd.read_csv(file, sep=',', encoding='utf-8')\n",
        "        \n",
        "  standard_fields = []\n",
        "  standard_fields.append(''.join(df.columns[df.columns.str.contains('Province')].format()))\n",
        "  standard_fields.append(''.join(df.columns[df.columns.str.contains('Country')].format()))\n",
        "  standard_fields.append(''.join(df.columns[df.columns.str.contains('Update')].format()))\n",
        "  standard_fields.append(''.join(df.columns[df.columns.str.contains('Confirmed')].format()))\n",
        "  standard_fields.append(''.join(df.columns[df.columns.str.contains('Deaths')].format()))\n",
        "  standard_fields.append(''.join(df.columns[df.columns.str.contains('Recovered')].format()))\n",
        "  standard_fields.append(''.join(df.columns[df.columns.str.contains('Lat')].format()))\n",
        "  standard_fields.append(''.join(df.columns[df.columns.str.contains('Long')].format()))                                                          \n",
        "  standard_fields = [string for string in standard_fields if string != \"\"]\n",
        "  \n",
        "  if len(standard_fields) != len(df.columns):\n",
        "    df_standard = df[standard_fields]\n",
        "    df_standard.columns = ['Province_State', 'Country_Region', 'Last_Update', 'Confirmed', 'Deaths', 'Recovered', 'Lat', 'Long']\n",
        "    df_standard['file'] = file\n",
        "  \n",
        "  return df_standard"
      ],
      "execution_count": 3,
      "outputs": []
    },
    {
      "cell_type": "code",
      "metadata": {
        "id": "RSMRoR-UKQZ4",
        "colab_type": "code",
        "colab": {}
      },
      "source": [
        "for file in github_content_files:\n",
        "    if '.csv' in file['download_url']:\n",
        "        r = requests.get(file['download_url'], allow_redirects=True)\n",
        "        open(file['name'], 'wb').write(r.content)"
      ],
      "execution_count": 5,
      "outputs": []
    },
    {
      "cell_type": "code",
      "metadata": {
        "id": "KaUmJLaGKSCh",
        "colab_type": "code",
        "colab": {
          "base_uri": "https://localhost:8080/",
          "height": 122
        },
        "outputId": "c7868e23-bfbd-4410-9082-bc88c3df8fcf"
      },
      "source": [
        "df_temp = pd.DataFrame()\n",
        "df = pd.DataFrame()\n",
        "\n",
        "onlyfiles = [f for f in listdir() if isfile(f)]\n",
        "for file in onlyfiles: \n",
        "  df_temp = standardization(file)\n",
        "  if not df_temp.empty:\n",
        "    df = pd.concat([df,df_temp])"
      ],
      "execution_count": 6,
      "outputs": [
        {
          "output_type": "stream",
          "text": [
            "/usr/local/lib/python3.6/dist-packages/ipykernel_launcher.py:19: SettingWithCopyWarning: \n",
            "A value is trying to be set on a copy of a slice from a DataFrame.\n",
            "Try using .loc[row_indexer,col_indexer] = value instead\n",
            "\n",
            "See the caveats in the documentation: https://pandas.pydata.org/pandas-docs/stable/user_guide/indexing.html#returning-a-view-versus-a-copy\n"
          ],
          "name": "stderr"
        }
      ]
    },
    {
      "cell_type": "code",
      "metadata": {
        "id": "pls942NwK5Lk",
        "colab_type": "code",
        "colab": {}
      },
      "source": [
        "df.to_csv('consolidated_covid_19_data.csv', sep=',',encoding='utf-8')"
      ],
      "execution_count": 8,
      "outputs": []
    },
    {
      "cell_type": "code",
      "metadata": {
        "id": "Pu4TzopPLXbR",
        "colab_type": "code",
        "colab": {
          "base_uri": "https://localhost:8080/",
          "height": 289
        },
        "outputId": "f7a1a0bf-7d3c-4641-b842-47167e894953"
      },
      "source": [
        "df.tail()"
      ],
      "execution_count": 9,
      "outputs": [
        {
          "output_type": "execute_result",
          "data": {
            "text/html": [
              "<div>\n",
              "<style scoped>\n",
              "    .dataframe tbody tr th:only-of-type {\n",
              "        vertical-align: middle;\n",
              "    }\n",
              "\n",
              "    .dataframe tbody tr th {\n",
              "        vertical-align: top;\n",
              "    }\n",
              "\n",
              "    .dataframe thead th {\n",
              "        text-align: right;\n",
              "    }\n",
              "</style>\n",
              "<table border=\"1\" class=\"dataframe\">\n",
              "  <thead>\n",
              "    <tr style=\"text-align: right;\">\n",
              "      <th></th>\n",
              "      <th>Province_State</th>\n",
              "      <th>Country_Region</th>\n",
              "      <th>Last_Update</th>\n",
              "      <th>Confirmed</th>\n",
              "      <th>Deaths</th>\n",
              "      <th>Recovered</th>\n",
              "      <th>Lat</th>\n",
              "      <th>Long</th>\n",
              "      <th>file</th>\n",
              "    </tr>\n",
              "  </thead>\n",
              "  <tbody>\n",
              "    <tr>\n",
              "      <th>3158</th>\n",
              "      <td>NaN</td>\n",
              "      <td>West Bank and Gaza</td>\n",
              "      <td>2020-04-29 02:32:29</td>\n",
              "      <td>343</td>\n",
              "      <td>2</td>\n",
              "      <td>71</td>\n",
              "      <td>31.952200</td>\n",
              "      <td>35.233200</td>\n",
              "      <td>04-28-2020.csv</td>\n",
              "    </tr>\n",
              "    <tr>\n",
              "      <th>3159</th>\n",
              "      <td>NaN</td>\n",
              "      <td>Western Sahara</td>\n",
              "      <td>2020-04-29 02:32:29</td>\n",
              "      <td>6</td>\n",
              "      <td>0</td>\n",
              "      <td>5</td>\n",
              "      <td>24.215500</td>\n",
              "      <td>-12.885800</td>\n",
              "      <td>04-28-2020.csv</td>\n",
              "    </tr>\n",
              "    <tr>\n",
              "      <th>3160</th>\n",
              "      <td>NaN</td>\n",
              "      <td>Yemen</td>\n",
              "      <td>2020-04-29 02:32:29</td>\n",
              "      <td>1</td>\n",
              "      <td>0</td>\n",
              "      <td>1</td>\n",
              "      <td>15.552727</td>\n",
              "      <td>48.516388</td>\n",
              "      <td>04-28-2020.csv</td>\n",
              "    </tr>\n",
              "    <tr>\n",
              "      <th>3161</th>\n",
              "      <td>NaN</td>\n",
              "      <td>Zambia</td>\n",
              "      <td>2020-04-29 02:32:29</td>\n",
              "      <td>95</td>\n",
              "      <td>3</td>\n",
              "      <td>42</td>\n",
              "      <td>-13.133897</td>\n",
              "      <td>27.849332</td>\n",
              "      <td>04-28-2020.csv</td>\n",
              "    </tr>\n",
              "    <tr>\n",
              "      <th>3162</th>\n",
              "      <td>NaN</td>\n",
              "      <td>Zimbabwe</td>\n",
              "      <td>2020-04-29 02:32:29</td>\n",
              "      <td>32</td>\n",
              "      <td>4</td>\n",
              "      <td>5</td>\n",
              "      <td>-19.015438</td>\n",
              "      <td>29.154857</td>\n",
              "      <td>04-28-2020.csv</td>\n",
              "    </tr>\n",
              "  </tbody>\n",
              "</table>\n",
              "</div>"
            ],
            "text/plain": [
              "     Province_State      Country_Region  ...       Long            file\n",
              "3158            NaN  West Bank and Gaza  ...  35.233200  04-28-2020.csv\n",
              "3159            NaN      Western Sahara  ... -12.885800  04-28-2020.csv\n",
              "3160            NaN               Yemen  ...  48.516388  04-28-2020.csv\n",
              "3161            NaN              Zambia  ...  27.849332  04-28-2020.csv\n",
              "3162            NaN            Zimbabwe  ...  29.154857  04-28-2020.csv\n",
              "\n",
              "[5 rows x 9 columns]"
            ]
          },
          "metadata": {
            "tags": []
          },
          "execution_count": 9
        }
      ]
    },
    {
      "cell_type": "code",
      "metadata": {
        "id": "AX4Xwd50Lbg-",
        "colab_type": "code",
        "colab": {
          "base_uri": "https://localhost:8080/",
          "height": 34
        },
        "outputId": "431f6081-475b-4f9a-a7ca-ab28f5d6efe0"
      },
      "source": [
        "df.shape"
      ],
      "execution_count": 10,
      "outputs": [
        {
          "output_type": "execute_result",
          "data": {
            "text/plain": [
              "(425513, 9)"
            ]
          },
          "metadata": {
            "tags": []
          },
          "execution_count": 10
        }
      ]
    }
  ]
}