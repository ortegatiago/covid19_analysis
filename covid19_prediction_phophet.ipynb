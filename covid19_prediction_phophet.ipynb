{
  "nbformat": 4,
  "nbformat_minor": 0,
  "metadata": {
    "colab": {
      "name": "covid19_prediction_phophet.ipynb",
      "provenance": [],
      "collapsed_sections": [],
      "authorship_tag": "ABX9TyOY/uouFlzp03YsbQKCr9a6",
      "include_colab_link": true
    },
    "kernelspec": {
      "name": "python3",
      "display_name": "Python 3"
    }
  },
  "cells": [
    {
      "cell_type": "markdown",
      "metadata": {
        "id": "view-in-github",
        "colab_type": "text"
      },
      "source": [
        "<a href=\"https://colab.research.google.com/github/ortegatiago/covid19_analysis/blob/master/covid19_prediction_phophet.ipynb\" target=\"_parent\"><img src=\"https://colab.research.google.com/assets/colab-badge.svg\" alt=\"Open In Colab\"/></a>"
      ]
    },
    {
      "cell_type": "markdown",
      "metadata": {
        "id": "IcrxNIPOxTuf",
        "colab_type": "text"
      },
      "source": [
        "**COVID 19 Predictions using python Facebook Prophet**\n",
        "\n",
        "Author: Ortega, Tiago\n",
        "\n",
        "email: ortega.tiago@gmail.com\n",
        "\n",
        "github: https://github.com/ortegatiago\n",
        "\n",
        "linkedin: https://www.linkedin.com/in/ortegatiago/"
      ]
    },
    {
      "cell_type": "markdown",
      "metadata": {
        "id": "tR5xsm1YyKuc",
        "colab_type": "text"
      },
      "source": [
        "Facebook Prophet Documentations\n",
        "\n",
        "https://facebook.github.io/prophet/docs/quick_start.html#python-api\n",
        "\n",
        "\n",
        "https://facebook.github.io/prophet/\n"
      ]
    },
    {
      "cell_type": "code",
      "metadata": {
        "id": "sxNxkYh8TaDH",
        "colab_type": "code",
        "colab": {}
      },
      "source": [
        "import pandas as pd\n",
        "from fbprophet import Prophet"
      ],
      "execution_count": null,
      "outputs": []
    }
  ]
}